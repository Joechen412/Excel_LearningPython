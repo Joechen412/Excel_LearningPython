{
  "nbformat": 4,
  "nbformat_minor": 0,
  "metadata": {
    "colab": {
      "provenance": [],
      "authorship_tag": "ABX9TyMwFBkj0DGBuoN02XC2sQcN",
      "include_colab_link": true
    },
    "kernelspec": {
      "name": "python3",
      "display_name": "Python 3"
    },
    "language_info": {
      "name": "python"
    }
  },
  "cells": [
    {
      "cell_type": "markdown",
      "metadata": {
        "id": "view-in-github",
        "colab_type": "text"
      },
      "source": [
        "<a href=\"https://colab.research.google.com/github/Joechen412/Excel_LearningPython/blob/main/excel.stock.ipynb\" target=\"_parent\"><img src=\"https://colab.research.google.com/assets/colab-badge.svg\" alt=\"Open In Colab\"/></a>"
      ]
    },
    {
      "cell_type": "code",
      "execution_count": 1,
      "metadata": {
        "colab": {
          "base_uri": "https://localhost:8080/"
        },
        "id": "0YREdzKtQTA5",
        "outputId": "b92840af-1a60-4701-8d3e-0ae95faaee4d"
      },
      "outputs": [
        {
          "output_type": "stream",
          "name": "stdout",
          "text": [
            "ok\n"
          ]
        }
      ],
      "source": [
        "print(\"ok\")"
      ]
    },
    {
      "cell_type": "markdown",
      "source": [
        "*** Hi Love you\n",
        "> TESTING\n"
      ],
      "metadata": {
        "id": "1pnS4yfJQciZ"
      }
    }
  ]
}